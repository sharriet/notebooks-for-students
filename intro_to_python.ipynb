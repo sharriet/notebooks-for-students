{
 "cells": [
  {
   "cell_type": "markdown",
   "metadata": {
    "colab_type": "text",
    "id": "4vmnbgyYAlUz"
   },
   "source": [
    "# Introduction to Python\n",
    "This exercise aims to introduce some fundamental programming concepts in the Python language. We will do this while programming a 'virtual pet'. Afterwards you can have a go at making your pet a bit more entertaining.\n",
    "\n",
    "This exercise is by no means comprehensive, so do use other resources and documentation too (some suggestions below).\n",
    "\n",
    "## Tips\n",
    "+ To run a code block, hit `<Ctrl>+<Enter>` from inside the block\n",
    "+ Practice copying and running my example code snippets before attempting the task yourself \n",
    "\n",
    "## Other resources and documentation\n",
    "Beginners may also find it helpful to check out Google's Python class here:\n",
    "https://developers.google.com/edu/python/?hl=en\n",
    "\n",
    "Or the Python one:\n",
    "https://wiki.python.org/moin/BeginnersGuide\n",
    "\n",
    "Tutorials Point is also useful for learning syntax and rules:\n",
    "http://www.tutorialspoint.com/python/\n",
    "\n",
    "There are also loads of free online courses such as this one:\n",
    "https://www.codecademy.com/learn/learn-python-3\n",
    "\n",
    "And then there's the official Python documentation too:\n",
    "https://docs.python.org/3/"
   ]
  },
  {
   "cell_type": "markdown",
   "metadata": {
    "colab_type": "text",
    "id": "aNgCj2uhBr_K"
   },
   "source": [
    "## Task 1: Defining variables\n",
    "In Python, variables can be defined anywhere in the script, and the **type** of data they contain doesn't need to be declared explicitly - it is implied by the **syntax** of the language. In programming, when you give a value to a variable we call it an **assignment**. \n",
    "\n",
    "For example,\n",
    "\n",
    "    my_string = \"Some characters\" # assign a string (text) value to a variable 'my_string' \n",
    "    my_int = 1234                 # assign an integer (whole number) value to a variable 'my_int' \n",
    "    my_float = 3.14               # assign a floating point number value to a variable 'my_float'\n",
    "    my_bool = True                # assign a boolean (true or false) value to a variable 'my_bool'\n",
    "    \n",
    "In the above, the `#` is used to add a comment to a line of code. Anything after the `#` is ignored by the interpreter.\n",
    "\n",
    "In the code cell below, **define 4 variables** suitable for storing:\n",
    "1. the name of your virtual pet\n",
    "2. the age of your virtual pet\n",
    "3. the body temperature of your pet\n",
    "4. whether it is dead or alive\n",
    "\n",
    "In the same cell, write a statement which will **output the values of your variables** using python's built-in `print()` **function**. For example,\n",
    "\n",
    "    print( my_string, my_int, my_float, my_bool )"
   ]
  },
  {
   "cell_type": "code",
   "execution_count": 3,
   "metadata": {},
   "outputs": [],
   "source": [
    "# write your code here..."
   ]
  },
  {
   "cell_type": "markdown",
   "metadata": {},
   "source": [
    "## Task 2: Define a list\n",
    "In Python, one-dimensional arrays are referred to as **lists**. They are defined with square brackets and comma separated values like this:\n",
    "\n",
    "    my_list = [ \"hello\", 2, 2, 2.5, False ]\n",
    "    \n",
    "Notice how the list can contain a mixture of data types, and that the values do not have to be unique. It can also contain other lists:\n",
    "\n",
    "    my_next_list = [ my_list, 4, [2, 1], False ]\n",
    "    \n",
    "To access an **element** in a list, use the list name followed by the element index in square brackets. List elements are indexed from 0. For example,\n",
    "\n",
    "    print( my_next_list[1] )\n",
    "    \n",
    "will output the integer 4.\n",
    "\n",
    "**Define a list** to store the actions that can be performed by a user of your virtual pet (e.g. feed, stroke, walk etc.)\n",
    "\n",
    "Afterwards, write a statement to **output all the actions**."
   ]
  },
  {
   "cell_type": "code",
   "execution_count": null,
   "metadata": {},
   "outputs": [],
   "source": [
    "# write your code here..."
   ]
  },
  {
   "cell_type": "markdown",
   "metadata": {
    "colab": {},
    "colab_type": "code",
    "id": "qi8lc4xuB9Dx"
   },
   "source": [
    "## Task 3: Define a dictionary\n",
    "Lists are great for grouping related variables. Sometimes the data we want to store in a variable has a more complex structure then can be represented by a simple list. In such situations we might turn to an alternative data structure called a **dictionary**. A dictionary is essentially a container for a group of **key value pairs** (sometimes referred to as 'associative arrays'). Each key value pair represents an item in the dictionary.\n",
    "\n",
    "A dictionary is defined like so,\n",
    "\n",
    "    my_dict = { \"key1\" : \"value1\", \"key2\" : \"value2\" , \"key3\" : \"value3\" }\n",
    "    \n",
    "For readability we tend to write the key value pairs on separate lines:\n",
    "\n",
    "    person = {\n",
    "        \"legs\": 2,\n",
    "        \"name\": \"William Shakespeare\",\n",
    "        \"alive\": False\n",
    "    }\n",
    "    \n",
    "The values in a dictionary needn't be unique, and they can contain arbitrary data types. The keys must be unique and of an immutable (unchangeable) data type, such as integer or string.\n",
    "\n",
    "To access the values in a dictionary, you reference the dictionary name followed by the key in square brackets. For example,\n",
    "\n",
    "    person_name = person[\"name\"]\n",
    "    \n",
    "**Define a dictionary** to store properties of your virtual pet such as name, age, health etc. Afterwards, write a statement to **output the name of your pet**."
   ]
  },
  {
   "cell_type": "code",
   "execution_count": 1,
   "metadata": {},
   "outputs": [],
   "source": [
    "# write your code here..."
   ]
  },
  {
   "cell_type": "markdown",
   "metadata": {},
   "source": [
    "## Task 4: Perform a selection\n",
    "In programming, to make a selection between 2 or more possible outcomes, a **conditional statement** is commonly used. In Python, an If/Else statement to force a selection between 2 outcomes is written like this:\n",
    "\n",
    "    a, b = 7, 6\n",
    "    if a < b:\n",
    "        print( str(a) + \" is less than \" + str(b) )\n",
    "    else:\n",
    "        print( str(a) + \" is greater than or equal to \" + str(b) )\n",
    "        \n",
    "You can also force a selection between more than 2 outcomes with Elif (else if):\n",
    "\n",
    "    if a < 7:\n",
    "        print( \"Foo\" )\n",
    "    elif a >= 7:\n",
    "        print( \"Bar\" )\n",
    "    else:\n",
    "        print( \"This could never happen\" )\n",
    "An important thing to note here is the use of **indentation**. In Python, indentation is very important and affects how a statement is interpreted.\n",
    "\n",
    "Other things you might notice are,\n",
    "+ the use of **comparison operators** `<` and `>=` to compare 2 values\n",
    "+ the use of `+` operator to **concatenate** (join) strings\n",
    "+ the ability to perform multiple assignment (top line)\n",
    "+ the use of the built-in `str()` function to convert an integer to a string\n",
    "\n",
    "**Write a conditional statement** which will either output \"Woof!\" or \"Whine\" based on the value of some property you defined in Task 3 (such as the pet's health or happiness). \n",
    "\n",
    "**HINT**: To achieve this you'll need to use a comparison operator to compare the value associated with one your dictionary keys (e.g. `if petDict['health'] > 0`)."
   ]
  },
  {
   "cell_type": "code",
   "execution_count": 13,
   "metadata": {},
   "outputs": [],
   "source": [
    "# write your code here..."
   ]
  },
  {
   "cell_type": "markdown",
   "metadata": {},
   "source": [
    "## Note on syntax\n",
    "If you're completely new to python it may be helpful to pause here and cover a few basic syntactical rules. In programming, **syntax** is the rules of the language and it varies depending what language you're using (just like human languages).\n",
    "\n",
    "+ Every line of code in python is a statement and there are different kinds of statements. For example, a **conditional statement** is one kind of statement; an **assignment** is another kind of statement.\n",
    "+ Each statement in python should be written on a new line. \n",
    "+ There is no semi-colon at the end of a line of python code. In some languages a semi-colon may be used to delimit statements, but in python it is the new lines and indentations which are important.\n",
    "+ Code blocks are groups of statements that are executed as a unit.\n",
    "+ A conditional statement is a code block, since the use of conditional statements is a way of grouping lines of code together into a block."
   ]
  },
  {
   "cell_type": "markdown",
   "metadata": {},
   "source": [
    "## Task 5: Write an iteration statement\n",
    "Iteration statements are used to loop through (repeat) a block of code **for** a specific number of cycles, or **while** some condition evaluates True. For example, a **while loop** could look like this:\n",
    "\n",
    "    secret_number = 10\n",
    "    guess = 1\n",
    "    \n",
    "    while guess != secret_number :                     # Do something while guess is not equal to secret_number\n",
    "        guess = input( \"Guess the secret number: \" )   # Code to repeat while above condition is true\n",
    "        \n",
    "    print( \"You guessed correct!\" )                    # This will happen only when condition is false\n",
    "\n",
    "And a **for loop** could look like this:\n",
    "\n",
    "    for i in range(0, 5):                              # i is a `pseudo-variable' which will exist while this\n",
    "        print( i )                                     # statement is run\n",
    "        \n",
    "It is also very easy to iterate through elements in a list using a for loop:\n",
    "\n",
    "    for item in my_list:                               # item is another pseudo-variable which takes the value\n",
    "        print( item )                                  # of the current list element\n",
    "\n",
    "**Write an iteration statement** which will output the actions available to a user on separate lines.   "
   ]
  },
  {
   "cell_type": "code",
   "execution_count": null,
   "metadata": {},
   "outputs": [],
   "source": [
    "# write your code here..."
   ]
  },
  {
   "cell_type": "markdown",
   "metadata": {},
   "source": [
    "## Task 6: Use built-in functions to manipulate lists\n",
    "Whether you knew it or not, you have already been making use of **functions** in this exercise. A function is a  reuseable block of code which performs a specific task (often a task which gets repeated many times in a program). Functions help to make code reuseable, as well as making it more readable and easier to maintain.\n",
    "In Python there are many built-in functions (i.e. `print()` is a built-in function), and more can be imported from python's standard library. \n",
    "\n",
    "Functions are easily identified by their trailing **parentheses**. Often functions will accept one or more **inputs** and will **return** one or more **outputs**. Inputs are passed into functions as **arguments**, which are included in the parentheses. For example, `print()` expects an argument in the form of a string or variable, which it will then output to the console or output window.\n",
    "\n",
    "There are lots of built-in functions you can use to manipulate lists (among other things). Technically some of these are actually methods (methods are the functions of a particular class of object, but don't worry what that means yet). For example, you can call the built-in `len()` function to return the length of a list or other object:\n",
    "\n",
    "    print( len( my_list ) )\n",
    "    \n",
    "Or you can **append** an item to the end of a list with the `append()` list method:\n",
    "\n",
    "    my_list.append( \"A new list item\" )\n",
    "\n",
    "Notice that, in the latter example, we call the method on the list item rather than passing the list as an argument. This is because `append()` is a method of the list object.\n",
    "    \n",
    "Use built-in list functions to do the following:\n",
    "1. Output the **number of actions** available to a user\n",
    "2. **Remove** an action from the list of user actions (**HINT**: use the `remove()` list method!)\n",
    "3. **Add** a new action to the list of actions"
   ]
  },
  {
   "cell_type": "code",
   "execution_count": null,
   "metadata": {},
   "outputs": [],
   "source": [
    "# write your code here..."
   ]
  },
  {
   "cell_type": "markdown",
   "metadata": {},
   "source": [
    "## Task 7: Define a function\n",
    "Defining your own functions in python is highly recommended for maximising code reuse and for making your programs easy to test and maintain. You define functions in python like this:\n",
    "\n",
    "    def add_numbers( num1, num2 ):\n",
    "        sum = num1 + num2\n",
    "        return sum\n",
    "        \n",
    "Notice this function accepts 2 arguments (inputs), and returns a single output. The names of the inputs are arbitrary and serve as placeholder/temporary variables.\n",
    "\n",
    "The function definition above won't do anything unless the function is invoked or **called** elsewhere in the program. There are different ways you might do this...\n",
    "\n",
    "You could assign the output from this function to a variable:\n",
    "\n",
    "    result = add_numbers( 3, 5 )\n",
    "    \n",
    "Or you could feed it into another function:\n",
    "\n",
    "    print( add_numbers( 3, 5 ) )\n",
    "    \n",
    "**Define a function** which will take a string as input, check if the string is equal to \"walk\", and, if it is, will increase the health or happiness of your pet. **HINT**: Use my skeleton below! (and notice the use of the `==` comparison operator which is not to be confused with the `=` assignment operator)\n",
    "\n",
    "    def update_pet( action ):\n",
    "        if action == \"walk\":\n",
    "            # increase health or happiness by 1\n",
    "        else:\n",
    "            # output \"action not recognised\"\n",
    "\n",
    "**Call the function** and check it worked correctly using one or more `print()` statements."
   ]
  },
  {
   "cell_type": "code",
   "execution_count": 10,
   "metadata": {},
   "outputs": [],
   "source": [
    "# write your code here "
   ]
  },
  {
   "cell_type": "markdown",
   "metadata": {},
   "source": [
    "## Task 8: Create a user-interface\n",
    "Before you can build a cool virtual pet, you need a way for a user to interact with your program. Unfortunately you can't create a nice graphical user interface (GUI) without using other libraries or web frameworks, neither of which we are going to do in this tutorial. However, we can prompt a user for text input via the console/output window. We can do this using python's built-in **input** function.\n",
    "\n",
    "Example,\n",
    "\n",
    "        age = input(\"Enter your age: \")\n",
    "The above will assign whatever value a user enters to the `age` variable. However, even if they enter a numeric value python will think it is a string. Hence the following line should raise a type error (try it and see):\n",
    "\n",
    "        print( age + 1 )\n",
    "To get around this you can use a type conversion function such as `int()` to convert age to data of a different type.\n",
    "\n",
    "        age = int( input(\"Enter your age: \") )\n",
    "**Allow a user to enter a name for their pet**. Update your pet property dictionary from Task 3 based on their input."
   ]
  },
  {
   "cell_type": "code",
   "execution_count": 8,
   "metadata": {},
   "outputs": [],
   "source": [
    "# write your code here..."
   ]
  },
  {
   "cell_type": "markdown",
   "metadata": {},
   "source": [
    "## Task 8: Write your first program!\n",
    "You've now encountered some of the main programming constructs which will allow you, in theory, to write a computer program! \n",
    "\n",
    "Here is the algorithm (steps) for a simple virtual pet program. See if you can **turn the algorithm into python code**. It is up to you how you decide to structure the data in the program. You can adapt the algorithm if you wish. Try to be creative and have fun with it!\n",
    "\n",
    "+ Store actions a user can perform on their pet (**HINT**: task 1!)\n",
    "+ Store the default properties of a new pet (**HINT**: task 2!)\n",
    "+ Ask a user to choose a name for their pet (**HINT**: task 8!)\n",
    "+ While some condition is met (e.g. while pet has health > 0): (**HINT**: task 5!)\n",
    "    - Display a list of actions a user can perform (kind of like a crude menu) (**HINT**: task 5!)\n",
    "    - Prompt a user to enter an action\n",
    "    - Update the pet properties in response to the user action (**HINT**: revamp task 7?)\n",
    "    - Repeat..."
   ]
  },
  {
   "cell_type": "code",
   "execution_count": null,
   "metadata": {},
   "outputs": [],
   "source": [
    "# write your code here..."
   ]
  },
  {
   "cell_type": "markdown",
   "metadata": {},
   "source": [
    "## The beginning!\n",
    "If you managed all that then you've just opened the door to infinite possibilities.\n",
    "Keep coding and remember that, like most things, it only takes practice."
   ]
  }
 ],
 "metadata": {
  "colab": {
   "name": "Intro_to_Python.ipynb",
   "provenance": []
  },
  "kernelspec": {
   "display_name": "Python 3",
   "language": "python",
   "name": "python3"
  },
  "language_info": {
   "codemirror_mode": {
    "name": "ipython",
    "version": 3
   },
   "file_extension": ".py",
   "mimetype": "text/x-python",
   "name": "python",
   "nbconvert_exporter": "python",
   "pygments_lexer": "ipython3",
   "version": "3.5.2"
  }
 },
 "nbformat": 4,
 "nbformat_minor": 1
}
